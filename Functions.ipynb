{
  "nbformat": 4,
  "nbformat_minor": 0,
  "metadata": {
    "colab": {
      "provenance": [],
      "authorship_tag": "ABX9TyNUrKD4SQZlbbnFd1RYgBRM",
      "include_colab_link": true
    },
    "kernelspec": {
      "name": "python3",
      "display_name": "Python 3"
    },
    "language_info": {
      "name": "python"
    }
  },
  "cells": [
    {
      "cell_type": "markdown",
      "metadata": {
        "id": "view-in-github",
        "colab_type": "text"
      },
      "source": [
        "<a href=\"https://colab.research.google.com/github/abhinandan2611/python4beginners/blob/main/Functions.ipynb\" target=\"_parent\"><img src=\"https://colab.research.google.com/assets/colab-badge.svg\" alt=\"Open In Colab\"/></a>"
      ]
    },
    {
      "cell_type": "markdown",
      "source": [
        "## Functions\n",
        "\n",
        "*   Block of code that performs a specific task\n",
        "\n",
        "\n",
        "*   Used in organizing and reusing the code\n",
        "*   Improves readability\n",
        "\n",
        "\n",
        "\n",
        "\n",
        "\n"
      ],
      "metadata": {
        "id": "p99TvjTUFz_U"
      }
    },
    {
      "cell_type": "code",
      "execution_count": null,
      "metadata": {
        "id": "bm678Sy8FtT5"
      },
      "outputs": [],
      "source": [
        "## syntax\n",
        "def function_name(parameters):\n",
        "  \"\"\"Docstring\"\"\"   ##Docstring is used to write comments so that other devs can understand the code\n",
        "  #Function body    ##Docstring is used to explain the working of the function\n",
        "  return expression"
      ]
    },
    {
      "cell_type": "code",
      "source": [
        "## Why function? --> Helps in code reuseablitiy across the project\n",
        "num=24\n",
        "if num%2==0:\n",
        "  print(\"the number is even\")\n",
        "else:\n",
        "  print(\"the number is odd\")"
      ],
      "metadata": {
        "colab": {
          "base_uri": "https://localhost:8080/"
        },
        "id": "twaCkzsJHM79",
        "outputId": "3c676087-9865-419f-8f96-8accf1669d3b"
      },
      "execution_count": 1,
      "outputs": [
        {
          "output_type": "stream",
          "name": "stdout",
          "text": [
            "the number is even\n"
          ]
        }
      ]
    },
    {
      "cell_type": "code",
      "source": [
        "def even_or_odd(num):\n",
        "  \"\"\"This function finds even or odd\"\"\"    #Docstring is not mandatory but it ia good practice to have\n",
        "  if num%2==0:\n",
        "    print(\"the number is even\")\n",
        "  else:\n",
        "    print(\"the number is odd\")"
      ],
      "metadata": {
        "id": "IH5k7XrhHM4i"
      },
      "execution_count": 2,
      "outputs": []
    },
    {
      "cell_type": "code",
      "source": [
        "## Call this function --> just have to pass parameter(24) while calling the function\n",
        "even_or_odd(24)"
      ],
      "metadata": {
        "colab": {
          "base_uri": "https://localhost:8080/"
        },
        "id": "nN9uHIvHHMnp",
        "outputId": "877957ad-9c3c-4b02-88c0-6a91405073ce"
      },
      "execution_count": 3,
      "outputs": [
        {
          "output_type": "stream",
          "name": "stdout",
          "text": [
            "the number is even\n"
          ]
        }
      ]
    },
    {
      "cell_type": "code",
      "source": [
        "#Function with multiple parameters\n",
        "\n",
        "def add(a,b):\n",
        "  return a+b\n",
        "\n",
        "result=add(2,4)\n",
        "print(result)\n",
        "\n",
        ""
      ],
      "metadata": {
        "colab": {
          "base_uri": "https://localhost:8080/"
        },
        "id": "Q7azbiUqHMcM",
        "outputId": "896cf380-2ae9-486a-a434-06e18d1b71ce"
      },
      "execution_count": 4,
      "outputs": [
        {
          "output_type": "stream",
          "name": "stdout",
          "text": [
            "6\n"
          ]
        }
      ]
    },
    {
      "cell_type": "code",
      "source": [
        "## Default Parameters\n",
        "\n",
        "def greet(name=\"Guest\"):     ##\"Guest\" is the default parameter\n",
        "  print(f\"Hello {name} Welcome to the paradise\")\n",
        "\n",
        "greet(\"Abhi\")                      ##\"Specific parameter can be passed while calling the function\""
      ],
      "metadata": {
        "colab": {
          "base_uri": "https://localhost:8080/"
        },
        "id": "Xk0NU5hGJMbD",
        "outputId": "432bde3f-aa34-4215-b524-71f094243aa3"
      },
      "execution_count": 14,
      "outputs": [
        {
          "output_type": "stream",
          "name": "stdout",
          "text": [
            "Hello Abhi Welcome to the paradise\n"
          ]
        }
      ]
    },
    {
      "cell_type": "code",
      "source": [
        "## Variable length Arguments\n",
        "## Positional and Keywords Arguments\n",
        "\n",
        "def print_numbers(*args):     ## *args-->Standard form of passing positinal arguments ( can try other things like (*Abhi))\n",
        "  for numbers in args:        ##args access the values in the variable and passes them through a loop\n",
        "    print(numbers)"
      ],
      "metadata": {
        "id": "AEaBeAh8JlwG"
      },
      "execution_count": 17,
      "outputs": []
    },
    {
      "cell_type": "code",
      "source": [
        "print_numbers(1,2,3,4,5,6,7,8,\"Abhi\")"
      ],
      "metadata": {
        "colab": {
          "base_uri": "https://localhost:8080/"
        },
        "id": "em-pa_xIONs2",
        "outputId": "9e7b0615-f89e-44ea-bbf0-df485de4a280"
      },
      "execution_count": 18,
      "outputs": [
        {
          "output_type": "stream",
          "name": "stdout",
          "text": [
            "1\n",
            "2\n",
            "3\n",
            "4\n",
            "5\n",
            "6\n",
            "7\n",
            "8\n",
            "Abhi\n"
          ]
        }
      ]
    },
    {
      "cell_type": "code",
      "source": [
        "## Keywords Arguments  --> Denonted by **with the argument name\n",
        "                       #--> Arguments will be in key value pairs\n",
        "\n",
        "def print_details(**kwargs):        #**kwargs-->Standard form of passing positinal arguments ( can try other things like (*Abhi))\n",
        "  for key,value in kwargs.items():\n",
        "    print(f\"{key}:{value}\")\n",
        "\n",
        "\n",
        ""
      ],
      "metadata": {
        "id": "MuTcBmDkOXBu"
      },
      "execution_count": 20,
      "outputs": []
    },
    {
      "cell_type": "code",
      "source": [
        "print_details(name=\"Abhi\",age=\"23\",country=\"India\")"
      ],
      "metadata": {
        "colab": {
          "base_uri": "https://localhost:8080/"
        },
        "id": "GPHYSFgbPfFy",
        "outputId": "e5bf1eeb-fb96-4f23-8b59-3cddc7ff74a6"
      },
      "execution_count": 22,
      "outputs": [
        {
          "output_type": "stream",
          "name": "stdout",
          "text": [
            "name:Abhi\n",
            "age:23\n",
            "country:India\n"
          ]
        }
      ]
    },
    {
      "cell_type": "code",
      "source": [
        "#Combining both Args and Kwargs\n",
        "def print_details(*args,**kwargs):\n",
        "      for val in args:\n",
        "        print(f\" Positional argument: {val}\")\n",
        "      for key,value in kwargs.items():\n",
        "       print(f\"{key}:{value}\")\n",
        ""
      ],
      "metadata": {
        "id": "DDVlmYxDPfEj"
      },
      "execution_count": 25,
      "outputs": []
    },
    {
      "cell_type": "code",
      "source": [
        "print_details(1,2,3,4,5,6,name=\"Abhi\",age=\"23\",country=\"India\")"
      ],
      "metadata": {
        "colab": {
          "base_uri": "https://localhost:8080/"
        },
        "id": "_U6dCXHoPe8m",
        "outputId": "5b69bd3b-85ab-4be9-9321-4a62f80849c0"
      },
      "execution_count": 26,
      "outputs": [
        {
          "output_type": "stream",
          "name": "stdout",
          "text": [
            " Positional argument: 1\n",
            " Positional argument: 2\n",
            " Positional argument: 3\n",
            " Positional argument: 4\n",
            " Positional argument: 5\n",
            " Positional argument: 6\n",
            "name:Abhi\n",
            "age:23\n",
            "country:India\n"
          ]
        }
      ]
    },
    {
      "cell_type": "code",
      "source": [
        "## Return Statements\n",
        "def multiply(a,b):\n",
        "\n",
        "  return a*b\n",
        "\n",
        "multiply(2,3)"
      ],
      "metadata": {
        "colab": {
          "base_uri": "https://localhost:8080/"
        },
        "id": "MbXmMmQlPe5a",
        "outputId": "9da3d46f-7433-42f8-9c21-ca35a855b511"
      },
      "execution_count": 29,
      "outputs": [
        {
          "output_type": "execute_result",
          "data": {
            "text/plain": [
              "6"
            ]
          },
          "metadata": {},
          "execution_count": 29
        }
      ]
    },
    {
      "cell_type": "code",
      "source": [
        "## Return Statements  --> can return multiple statements\n",
        "def multiply(a,b):\n",
        "  return a*b,a\n",
        "\n",
        "multiply(2,3)"
      ],
      "metadata": {
        "colab": {
          "base_uri": "https://localhost:8080/"
        },
        "id": "lP5VfzxZPe2u",
        "outputId": "5cc504f0-e3d4-41de-ee9e-0895f7c7cf80"
      },
      "execution_count": 30,
      "outputs": [
        {
          "output_type": "execute_result",
          "data": {
            "text/plain": [
              "(6, 2)"
            ]
          },
          "metadata": {},
          "execution_count": 30
        }
      ]
    },
    {
      "cell_type": "code",
      "source": [],
      "metadata": {
        "id": "nXgcww83Pezx"
      },
      "execution_count": null,
      "outputs": []
    },
    {
      "cell_type": "code",
      "source": [],
      "metadata": {
        "id": "YU46HUXVPewJ"
      },
      "execution_count": null,
      "outputs": []
    }
  ]
}