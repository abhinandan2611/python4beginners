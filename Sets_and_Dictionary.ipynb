{
  "nbformat": 4,
  "nbformat_minor": 0,
  "metadata": {
    "colab": {
      "provenance": [],
      "authorship_tag": "ABX9TyNRP72+11d0neFzcokYvMdn",
      "include_colab_link": true
    },
    "kernelspec": {
      "name": "python3",
      "display_name": "Python 3"
    },
    "language_info": {
      "name": "python"
    }
  },
  "cells": [
    {
      "cell_type": "markdown",
      "metadata": {
        "id": "view-in-github",
        "colab_type": "text"
      },
      "source": [
        "<a href=\"https://colab.research.google.com/github/abhinandan2611/python4beginners/blob/main/Sets_and_Dictionary.ipynb\" target=\"_parent\"><img src=\"https://colab.research.google.com/assets/colab-badge.svg\" alt=\"Open In Colab\"/></a>"
      ]
    },
    {
      "cell_type": "code",
      "execution_count": null,
      "metadata": {
        "id": "rlouB_hB7Fsq"
      },
      "outputs": [],
      "source": [
        " #Sets do not follow specific order\n",
        " #sets do not allow duplicate elements\n",
        " #can define a list or a tuple inside a set"
      ]
    },
    {
      "cell_type": "code",
      "source": [
        "##Create a set\n",
        "my_set={1,2,3,4,5}\n",
        "print(my_set)\n",
        "print(type(my_set))"
      ],
      "metadata": {
        "colab": {
          "base_uri": "https://localhost:8080/"
        },
        "id": "2BBC00kH8PhP",
        "outputId": "5370a960-d017-4434-a342-4a2b26116035"
      },
      "execution_count": 2,
      "outputs": [
        {
          "output_type": "stream",
          "name": "stdout",
          "text": [
            "{1, 2, 3, 4, 5}\n",
            "<class 'set'>\n"
          ]
        }
      ]
    },
    {
      "cell_type": "code",
      "source": [
        "my_empty_set = {1, 2, 3, 6, 5, 4, 5, 6}  # ignores the duplicate elements\n",
        "print(my_empty_set)\n"
      ],
      "metadata": {
        "colab": {
          "base_uri": "https://localhost:8080/"
        },
        "id": "XiJ5TID98Pj6",
        "outputId": "c54b0e79-f582-4a13-d2ef-d3a264b09b9d"
      },
      "execution_count": 10,
      "outputs": [
        {
          "output_type": "stream",
          "name": "stdout",
          "text": [
            "{1, 2, 3, 4, 5, 6}\n"
          ]
        }
      ]
    },
    {
      "cell_type": "code",
      "source": [
        "#basic sets operation\n",
        "#adding and removing element\n",
        "my_set.add(7)\n",
        "print(my_set)"
      ],
      "metadata": {
        "colab": {
          "base_uri": "https://localhost:8080/"
        },
        "id": "UC2tn_8I8Pmx",
        "outputId": "07e3ea20-a8a6-4991-a6ab-cad18cba5f41"
      },
      "execution_count": 11,
      "outputs": [
        {
          "output_type": "stream",
          "name": "stdout",
          "text": [
            "{1, 2, 3, 4, 5, 7}\n"
          ]
        }
      ]
    },
    {
      "cell_type": "code",
      "source": [
        "#removing the element from the set\n",
        "my_set.remove(3)\n",
        "print(my_set)"
      ],
      "metadata": {
        "colab": {
          "base_uri": "https://localhost:8080/"
        },
        "id": "rDb2aIBv8Ppv",
        "outputId": "d9825bba-d7b8-4d32-ff91-d4f2accfcfea"
      },
      "execution_count": 12,
      "outputs": [
        {
          "output_type": "stream",
          "name": "stdout",
          "text": [
            "{1, 2, 4, 5, 7}\n"
          ]
        }
      ]
    },
    {
      "cell_type": "code",
      "source": [
        "#set membership test\n",
        "my_set={1,2,3,4,5}\n",
        "print(3 in my_set)\n",
        "print(10 in my_set)"
      ],
      "metadata": {
        "colab": {
          "base_uri": "https://localhost:8080/"
        },
        "id": "7nJDx40a8PsV",
        "outputId": "c4147022-269a-431e-dc3d-42feb75571c1"
      },
      "execution_count": 14,
      "outputs": [
        {
          "output_type": "stream",
          "name": "stdout",
          "text": [
            "True\n",
            "False\n"
          ]
        },
        {
          "output_type": "stream",
          "name": "stderr",
          "text": [
            "<>:3: SyntaxWarning: invalid decimal literal\n",
            "<>:3: SyntaxWarning: invalid decimal literal\n",
            "<ipython-input-14-665d908cf5a3>:3: SyntaxWarning: invalid decimal literal\n",
            "  print(3in my_set)\n"
          ]
        }
      ]
    },
    {
      "cell_type": "code",
      "source": [
        "#Mathemarical Operation\n",
        "set1={1,2,3,4,5,6}\n",
        "set2={4,5,6,7,8,9}\n",
        "\n",
        "##union\n",
        "union_set=set1.union(set2)\n",
        "print(union_set)\n",
        "\n",
        "##Intersection\n",
        "intersection_set=set1.intersection(set2)\n",
        "print(intersection_set)\n",
        "\n",
        "#intersection update\n",
        "set1.intersection_update(set2)\n",
        "print(set1)"
      ],
      "metadata": {
        "colab": {
          "base_uri": "https://localhost:8080/"
        },
        "id": "w-a9_uK-8Pu8",
        "outputId": "18bff288-a110-4003-a6a9-45bb1c25aae8"
      },
      "execution_count": 17,
      "outputs": [
        {
          "output_type": "stream",
          "name": "stdout",
          "text": [
            "{1, 2, 3, 4, 5, 6, 7, 8, 9}\n",
            "{4, 5, 6}\n",
            "{4, 5, 6}\n"
          ]
        }
      ]
    },
    {
      "cell_type": "code",
      "source": [
        "set1={1,2,3,4,5,6}\n",
        "set2={4,5,6,7,8,9}\n",
        "\n",
        "#Differnce\n",
        "print(set1.difference(set2))"
      ],
      "metadata": {
        "colab": {
          "base_uri": "https://localhost:8080/"
        },
        "id": "8Vw5b98i8Px8",
        "outputId": "c7d6b36a-1c52-43bf-c739-7ecacf4d557d"
      },
      "execution_count": 18,
      "outputs": [
        {
          "output_type": "stream",
          "name": "stdout",
          "text": [
            "{1, 2, 3}\n"
          ]
        }
      ]
    },
    {
      "cell_type": "code",
      "source": [
        "#Symmetric differnece\n",
        "set1.symmetric_difference(set2)"
      ],
      "metadata": {
        "colab": {
          "base_uri": "https://localhost:8080/"
        },
        "id": "u0PkfnO98P0v",
        "outputId": "6caf93c6-25af-4c2e-c3fd-0ed6a80d1cf3"
      },
      "execution_count": 19,
      "outputs": [
        {
          "output_type": "execute_result",
          "data": {
            "text/plain": [
              "{1, 2, 3, 7, 8, 9}"
            ]
          },
          "metadata": {},
          "execution_count": 19
        }
      ]
    },
    {
      "cell_type": "code",
      "source": [
        "#sets methods\n",
        "set1={1,2,3}\n",
        "set2={3,4,5}\n",
        "\n",
        "##is subset\n",
        "print(set1.issubset(set2))\n",
        "\n",
        "print(set1.issuperset(set2))"
      ],
      "metadata": {
        "colab": {
          "base_uri": "https://localhost:8080/"
        },
        "id": "lw6QyBtV8P4X",
        "outputId": "b8c403ca-4891-465f-c2b1-ecb7d09efc8e"
      },
      "execution_count": 21,
      "outputs": [
        {
          "output_type": "stream",
          "name": "stdout",
          "text": [
            "False\n",
            "False\n"
          ]
        }
      ]
    },
    {
      "cell_type": "markdown",
      "source": [
        "# Dictionaries"
      ],
      "metadata": {
        "id": "kwQNfr9hVDez"
      }
    },
    {
      "cell_type": "code",
      "source": [
        "## Creating Dictionaries\n",
        "empty_dict={}\n",
        "print(type(empty_dict))\n",
        "\n"
      ],
      "metadata": {
        "colab": {
          "base_uri": "https://localhost:8080/"
        },
        "id": "7GD00sgpQO_4",
        "outputId": "9040a61a-8b2a-406c-e81e-fd01873e4763"
      },
      "execution_count": 27,
      "outputs": [
        {
          "output_type": "stream",
          "name": "stdout",
          "text": [
            "<class 'dict'>\n"
          ]
        }
      ]
    },
    {
      "cell_type": "code",
      "source": [
        "empty_dict=dict()\n",
        "empty_dict"
      ],
      "metadata": {
        "colab": {
          "base_uri": "https://localhost:8080/"
        },
        "id": "EZxASs2ESh_D",
        "outputId": "1b59b783-b131-487b-ad00-cddaef17505d"
      },
      "execution_count": 28,
      "outputs": [
        {
          "output_type": "execute_result",
          "data": {
            "text/plain": [
              "{}"
            ]
          },
          "metadata": {},
          "execution_count": 28
        }
      ]
    },
    {
      "cell_type": "code",
      "source": [
        "#Key value pairs\n",
        "student={\"name\":\"Abhi\",\"age\":23,\"grade\":24}\n",
        "print(student)"
      ],
      "metadata": {
        "colab": {
          "base_uri": "https://localhost:8080/"
        },
        "id": "VBnDW5odW-Dw",
        "outputId": "c42baef9-9829-4488-e105-636ece2083ba"
      },
      "execution_count": 29,
      "outputs": [
        {
          "output_type": "stream",
          "name": "stdout",
          "text": [
            "{'name': 'Abhi', 'age': 23, 'grade': 24}\n"
          ]
        }
      ]
    },
    {
      "cell_type": "code",
      "source": [
        "#When do you get error\n",
        "student={\"name\":\"Abhi\",\"age\":23,\"name\":24}        #key values must be unique\n",
        "print(student)"
      ],
      "metadata": {
        "colab": {
          "base_uri": "https://localhost:8080/"
        },
        "id": "1FRm7s7XXP62",
        "outputId": "0f024e6a-874b-48b1-da25-2ce581e4ed7e"
      },
      "execution_count": 31,
      "outputs": [
        {
          "output_type": "stream",
          "name": "stdout",
          "text": [
            "{'name': 24, 'age': 23}\n"
          ]
        }
      ]
    },
    {
      "cell_type": "code",
      "source": [
        "# accessing dictionary elements\n",
        "student={\"name\":\"Abhi\",\"age\":23,\"grade\":'A'}\n",
        "print(student)"
      ],
      "metadata": {
        "colab": {
          "base_uri": "https://localhost:8080/"
        },
        "id": "-tnwgLPCXYJX",
        "outputId": "e948432d-322d-4040-879c-e1c371aab332"
      },
      "execution_count": 32,
      "outputs": [
        {
          "output_type": "stream",
          "name": "stdout",
          "text": [
            "{'name': 'Abhi', 'age': 23, 'grade': 'A'}\n"
          ]
        }
      ]
    },
    {
      "cell_type": "code",
      "source": [
        "print(student['grade'])\n",
        "print(student['age'])\n",
        "\n",
        "#accessing using get() method\n",
        "\n",
        "print(student.get('grade'))\n",
        "print(student.get('lastname'))\n",
        "print(student.get('lastname',\"Not Availabe\"))  #assigning the default value"
      ],
      "metadata": {
        "colab": {
          "base_uri": "https://localhost:8080/"
        },
        "id": "9PhMZHd1X6bz",
        "outputId": "7e03a9a7-efce-4334-b7a9-77d2382b4175"
      },
      "execution_count": 37,
      "outputs": [
        {
          "output_type": "stream",
          "name": "stdout",
          "text": [
            "A\n",
            "23\n",
            "A\n",
            "None\n",
            "Not Availabe\n"
          ]
        }
      ]
    },
    {
      "cell_type": "code",
      "source": [
        "##Modifying Dicitonary Elements\n",
        "## Dictionary are mutable, so you can add,update or delete elements\n",
        "##keys must be unique\n",
        "print(student)"
      ],
      "metadata": {
        "colab": {
          "base_uri": "https://localhost:8080/"
        },
        "id": "3k3-q_CDYAM1",
        "outputId": "a3bb04de-8be5-4eb3-d7f7-bc3a719db62c"
      },
      "execution_count": 38,
      "outputs": [
        {
          "output_type": "stream",
          "name": "stdout",
          "text": [
            "{'name': 'Abhi', 'age': 23, 'grade': 'A'}\n"
          ]
        }
      ]
    },
    {
      "cell_type": "code",
      "source": [
        "student[\"age\"]=24  #updated value for the key\n",
        "print(student)\n",
        "student[\"address\"]=\"Karnataka\"  #added a new key and value\n",
        "print(student)"
      ],
      "metadata": {
        "colab": {
          "base_uri": "https://localhost:8080/"
        },
        "id": "rBYAKMSSZEjK",
        "outputId": "0be753a7-a9c5-47be-b676-e492922a7fd8"
      },
      "execution_count": 40,
      "outputs": [
        {
          "output_type": "stream",
          "name": "stdout",
          "text": [
            "{'name': 'Abhi', 'age': 24, 'grade': 'A', 'address': 'Karnataka'}\n",
            "{'name': 'Abhi', 'age': 24, 'grade': 'A', 'address': 'Karnataka'}\n"
          ]
        }
      ]
    },
    {
      "cell_type": "code",
      "source": [
        "# Dictionary methods\n",
        "student={\"name\":\"Abhi\",\"age\":23,\"grade\":'A',\"address\":'Karnataka'}\n",
        "keys=student.keys()\n",
        "print(keys)\n",
        "values=student.values()\n",
        "print(values)\n",
        "\n",
        "items=student.items()  #get all key value pairs\n",
        "print(items)"
      ],
      "metadata": {
        "colab": {
          "base_uri": "https://localhost:8080/"
        },
        "id": "-wTlDiZpZTBi",
        "outputId": "0db1fa6a-453d-4b52-ba6f-cb28874f2ae6"
      },
      "execution_count": 15,
      "outputs": [
        {
          "output_type": "stream",
          "name": "stdout",
          "text": [
            "dict_keys(['name', 'age', 'grade', 'address'])\n",
            "dict_values(['Abhi', 23, 'A', 'Karnataka'])\n",
            "dict_items([('name', 'Abhi'), ('age', 23), ('grade', 'A'), ('address', 'Karnataka')])\n"
          ]
        }
      ]
    },
    {
      "cell_type": "code",
      "source": [
        "## shallow copy (very important)\n",
        "\n",
        "student_copy=student\n",
        "print(student)\n",
        "print(student_copy)"
      ],
      "metadata": {
        "colab": {
          "base_uri": "https://localhost:8080/"
        },
        "id": "VKVdkfZR8-gi",
        "outputId": "7b835d24-d77a-4e81-a745-9247e517a712"
      },
      "execution_count": 16,
      "outputs": [
        {
          "output_type": "stream",
          "name": "stdout",
          "text": [
            "{'name': 'Abhi', 'age': 23, 'grade': 'A', 'address': 'Karnataka'}\n",
            "{'name': 'Abhi', 'age': 23, 'grade': 'A', 'address': 'Karnataka'}\n"
          ]
        }
      ]
    },
    {
      "cell_type": "code",
      "source": [
        "student[\"name\"]=\"abhi2\"\n",
        "print(student)\n",
        "print(student_copy)"
      ],
      "metadata": {
        "colab": {
          "base_uri": "https://localhost:8080/"
        },
        "id": "42HQXShO_cr7",
        "outputId": "324f7509-bfd9-4510-cdf3-966b2c12fb55"
      },
      "execution_count": 17,
      "outputs": [
        {
          "output_type": "stream",
          "name": "stdout",
          "text": [
            "{'name': 'abhi2', 'age': 23, 'grade': 'A', 'address': 'Karnataka'}\n",
            "{'name': 'abhi2', 'age': 23, 'grade': 'A', 'address': 'Karnataka'}\n"
          ]
        }
      ]
    },
    {
      "cell_type": "code",
      "source": [
        "student_copy1=student.copy()   #shallow copy\n",
        "print(student_copy1)\n",
        "print(student)"
      ],
      "metadata": {
        "colab": {
          "base_uri": "https://localhost:8080/"
        },
        "id": "UKszY856_o7V",
        "outputId": "0f162636-3061-428e-841c-ead1d785374d"
      },
      "execution_count": 18,
      "outputs": [
        {
          "output_type": "stream",
          "name": "stdout",
          "text": [
            "{'name': 'abhi2', 'age': 23, 'grade': 'A', 'address': 'Karnataka'}\n",
            "{'name': 'abhi2', 'age': 23, 'grade': 'A', 'address': 'Karnataka'}\n"
          ]
        }
      ]
    },
    {
      "cell_type": "code",
      "source": [
        "student[\"name\"]=\"abhi3\"\n",
        "print(student_copy1)\n",
        "print(student)"
      ],
      "metadata": {
        "colab": {
          "base_uri": "https://localhost:8080/"
        },
        "id": "z494CuGo_5Gf",
        "outputId": "2fe21062-9b55-4cfc-ffc0-64f693cfc1e2"
      },
      "execution_count": 19,
      "outputs": [
        {
          "output_type": "stream",
          "name": "stdout",
          "text": [
            "{'name': 'abhi2', 'age': 23, 'grade': 'A', 'address': 'Karnataka'}\n",
            "{'name': 'abhi3', 'age': 23, 'grade': 'A', 'address': 'Karnataka'}\n"
          ]
        }
      ]
    },
    {
      "cell_type": "code",
      "source": [
        "## Iterating over Dictionaries\n",
        "#can use loops to interate over dictionaries,keys,values,or items\n",
        "\n",
        "##Iterating over keys\n",
        "for keys in student.keys():\n",
        "  print(keys)"
      ],
      "metadata": {
        "colab": {
          "base_uri": "https://localhost:8080/"
        },
        "id": "Mdxjn8tjAGUg",
        "outputId": "494d9d58-4455-400a-9582-a56d43fe2c2b"
      },
      "execution_count": 20,
      "outputs": [
        {
          "output_type": "stream",
          "name": "stdout",
          "text": [
            "name\n",
            "age\n",
            "grade\n",
            "address\n"
          ]
        }
      ]
    },
    {
      "cell_type": "code",
      "source": [
        "##iterate over values\n",
        "for values in student.values():\n",
        "  print(values)"
      ],
      "metadata": {
        "colab": {
          "base_uri": "https://localhost:8080/"
        },
        "id": "Ij7vuluTAx2J",
        "outputId": "5efebabb-d860-4629-f8f1-fbe2b79bda69"
      },
      "execution_count": 21,
      "outputs": [
        {
          "output_type": "stream",
          "name": "stdout",
          "text": [
            "abhi3\n",
            "23\n",
            "A\n",
            "Karnataka\n"
          ]
        }
      ]
    },
    {
      "cell_type": "code",
      "source": [
        "## Iterate over key value pairs\n",
        "for key,values in student.items():\n",
        "  print(f\"{key}:{values}\")"
      ],
      "metadata": {
        "colab": {
          "base_uri": "https://localhost:8080/"
        },
        "id": "7qH6hAA-A7lP",
        "outputId": "37780a1b-0159-4ddd-8450-f155bdd4cf0a"
      },
      "execution_count": 23,
      "outputs": [
        {
          "output_type": "stream",
          "name": "stdout",
          "text": [
            "name:abhi3\n",
            "age:23\n",
            "grade:A\n",
            "address:Karnataka\n"
          ]
        }
      ]
    },
    {
      "cell_type": "code",
      "source": [
        "## Nested Dictionaries\n",
        "students={\n",
        "    \"student1\":{\"name\":\"abhi\",\"age\":23},\n",
        "    \"student2\":{\"name\":\"Iron\",\"age\":35},\n",
        "}\n",
        "print(students)"
      ],
      "metadata": {
        "colab": {
          "base_uri": "https://localhost:8080/"
        },
        "id": "Xz7Lhh86BWFd",
        "outputId": "60b3d46c-1d01-4fc4-a635-8cfd2b863a0a"
      },
      "execution_count": 24,
      "outputs": [
        {
          "output_type": "stream",
          "name": "stdout",
          "text": [
            "{'student1': {'name': 'abhi', 'age': 23}, 'student2': {'name': 'Iron', 'age': 35}}\n"
          ]
        }
      ]
    },
    {
      "cell_type": "code",
      "source": [
        "## Access nested dictionaries elements\n",
        "print(students[\"student2\"][\"name\"])\n",
        "print(students[\"student2\"][\"age\"])\n"
      ],
      "metadata": {
        "colab": {
          "base_uri": "https://localhost:8080/"
        },
        "id": "RcztWqyiCAk_",
        "outputId": "94f8e370-34c5-4791-971f-f03588b74b04"
      },
      "execution_count": 25,
      "outputs": [
        {
          "output_type": "stream",
          "name": "stdout",
          "text": [
            "Iron\n",
            "35\n"
          ]
        }
      ]
    },
    {
      "cell_type": "code",
      "source": [
        "## Iterating over nested dictionaries\n",
        "for student_id,student_info in students.items():\n",
        "  print(f\"{student_id}:{student_info}\")\n",
        "  for key,values in student_info.items():\n",
        "    print(f\"{key}:{values}\")\n"
      ],
      "metadata": {
        "colab": {
          "base_uri": "https://localhost:8080/"
        },
        "id": "YUE-OHxJCTqI",
        "outputId": "0d13e077-a10a-467a-e357-380e26842576"
      },
      "execution_count": 26,
      "outputs": [
        {
          "output_type": "stream",
          "name": "stdout",
          "text": [
            "student1:{'name': 'abhi', 'age': 23}\n",
            "name:abhi\n",
            "age:23\n",
            "student2:{'name': 'Iron', 'age': 35}\n",
            "name:Iron\n",
            "age:35\n"
          ]
        }
      ]
    },
    {
      "cell_type": "code",
      "source": [
        "##Dictionary Comprehension\n",
        "squares={ x:x**2 for x in range(5)}\n",
        "print(squares)"
      ],
      "metadata": {
        "colab": {
          "base_uri": "https://localhost:8080/"
        },
        "id": "T-hw58ttDYh6",
        "outputId": "18a0f29b-6494-42b9-c396-eff2b8fbd946"
      },
      "execution_count": 27,
      "outputs": [
        {
          "output_type": "stream",
          "name": "stdout",
          "text": [
            "{0: 0, 1: 1, 2: 4, 3: 9, 4: 16}\n"
          ]
        }
      ]
    },
    {
      "cell_type": "code",
      "source": [
        "## condional dictionary comprehension\n",
        "evens={x:x**2 for x in range(10) if x%2==0}\n",
        "print(evens)"
      ],
      "metadata": {
        "colab": {
          "base_uri": "https://localhost:8080/"
        },
        "id": "bg8tvIRAF1YM",
        "outputId": "3d160c90-ae08-4165-b57c-fcea8d2a6ac5"
      },
      "execution_count": 29,
      "outputs": [
        {
          "output_type": "stream",
          "name": "stdout",
          "text": [
            "{0: 0, 2: 4, 4: 16, 6: 36, 8: 64}\n"
          ]
        }
      ]
    },
    {
      "cell_type": "code",
      "source": [
        "## Practical exmaples\n",
        "\n",
        "numbers=[1,2,2,3,3,3,4,4,4,4]\n",
        "frequency={}\n",
        "\n",
        "for number in numbers:\n",
        "  if number in frequency:\n",
        "    frequency[number]+=1\n",
        "  else:\n",
        "    frequency[number]=1\n",
        "print(frequency)"
      ],
      "metadata": {
        "colab": {
          "base_uri": "https://localhost:8080/"
        },
        "id": "JOIH8ZChGIly",
        "outputId": "e1b67f14-bdcf-441e-b01f-8fc22751d117"
      },
      "execution_count": 30,
      "outputs": [
        {
          "output_type": "stream",
          "name": "stdout",
          "text": [
            "{1: 1, 2: 2, 3: 3, 4: 4}\n"
          ]
        }
      ]
    },
    {
      "cell_type": "code",
      "source": [
        "## Merge 2 dictionaries into one\n",
        "\n",
        "dict1={\"a\":1,\"b\":2}\n",
        "dict2={\"b\":3,\"c\":4}\n",
        "merged_dict={**dict1,**dict2}\n",
        "print(merged_dict)"
      ],
      "metadata": {
        "colab": {
          "base_uri": "https://localhost:8080/"
        },
        "id": "te9lTWHyHPuN",
        "outputId": "951d72d4-efe1-4bff-ce4c-e9d3cca57814"
      },
      "execution_count": 31,
      "outputs": [
        {
          "output_type": "stream",
          "name": "stdout",
          "text": [
            "{'a': 1, 'b': 3, 'c': 4}\n"
          ]
        }
      ]
    },
    {
      "cell_type": "code",
      "source": [],
      "metadata": {
        "id": "MRkaM9NlH5b5"
      },
      "execution_count": null,
      "outputs": []
    }
  ]
}