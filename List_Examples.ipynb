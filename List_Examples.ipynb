{
  "nbformat": 4,
  "nbformat_minor": 0,
  "metadata": {
    "colab": {
      "provenance": [],
      "authorship_tag": "ABX9TyO9sICZTOvFOo2BZ724tDfW",
      "include_colab_link": true
    },
    "kernelspec": {
      "name": "python3",
      "display_name": "Python 3"
    },
    "language_info": {
      "name": "python"
    }
  },
  "cells": [
    {
      "cell_type": "markdown",
      "metadata": {
        "id": "view-in-github",
        "colab_type": "text"
      },
      "source": [
        "<a href=\"https://colab.research.google.com/github/abhinandan2611/python4beginners/blob/main/List_Examples.ipynb\" target=\"_parent\"><img src=\"https://colab.research.google.com/assets/colab-badge.svg\" alt=\"Open In Colab\"/></a>"
      ]
    },
    {
      "cell_type": "markdown",
      "source": [
        "## Manage A To Do List\n",
        "\n",
        "\n",
        "\n",
        "\n",
        "*    To keep track of tasks\n",
        "\n",
        "\n",
        "\n"
      ],
      "metadata": {
        "id": "DFw8xAfyI1vc"
      }
    },
    {
      "cell_type": "code",
      "execution_count": 2,
      "metadata": {
        "colab": {
          "base_uri": "https://localhost:8080/"
        },
        "id": "QuuJa4WdIvcM",
        "outputId": "a1861566-a546-45c4-8e96-dd6d3cb0359b"
      },
      "outputs": [
        {
          "output_type": "stream",
          "name": "stdout",
          "text": [
            "dont forget to pay the bills\n",
            "To Do List Remaining\n",
            "-Buy Groceries\n",
            "-pay bills\n",
            "-Schedule meeting\n",
            "-Go for a run\n"
          ]
        }
      ],
      "source": [
        "to_do_list=[\"Buy Groceries\",\"clean the house\",\"pay bills\"]\n",
        "\n",
        "##Adding to task\n",
        "to_do_list.append(\"Schedule meeting\")\n",
        "to_do_list.append(\"Go for a run\")\n",
        "\n",
        "## Removing a completed task\n",
        "to_do_list.remove(\"clean the house\")\n",
        "\n",
        "## checking if a task is in the list\n",
        "if \"pay bills\" in to_do_list:\n",
        "  print(\"dont forget to pay the bills\")\n",
        "\n",
        "print(\"To Do List Remaining\")\n",
        "for task in to_do_list:\n",
        "  print(f\"-{task}\")\n"
      ]
    },
    {
      "cell_type": "markdown",
      "source": [
        "## Organizing Student Grades\n",
        "\n",
        "1.   Create a list and calculate average gardes for students\n",
        "\n"
      ],
      "metadata": {
        "id": "g8si050UKimW"
      }
    },
    {
      "cell_type": "code",
      "source": [
        "grades = [85,92,78,90,88]\n",
        "\n",
        "# Adding a new grade\n",
        "grades.append(95)\n",
        "\n",
        "#calculating the average grade\n",
        "average_grade = sum(grades)/len(grades)\n",
        "print(f\"Average grade: {average_grade:.2f}\")\n",
        "\n",
        "#Finding the highest and lowest grades\n",
        "highest_grade = max(grades)\n",
        "lowest_grade = min(grades)\n",
        "print(f\"Highest Grade: {highest_grade}\")\n",
        "print(f\"Lowest Grade: {lowest_grade}\")"
      ],
      "metadata": {
        "colab": {
          "base_uri": "https://localhost:8080/"
        },
        "id": "orlL8x7qKQTI",
        "outputId": "a629d3fe-13a1-4fbf-b9a4-a9ef2448d87d"
      },
      "execution_count": 3,
      "outputs": [
        {
          "output_type": "stream",
          "name": "stdout",
          "text": [
            "Average grade: 88.00\n",
            "Highest Grade: 95\n",
            "Lowest Grade: 78\n"
          ]
        }
      ]
    },
    {
      "cell_type": "markdown",
      "source": [
        "## Managing An Inventory\n",
        "\n",
        "*   Use a list to manange inventory items in a store\n",
        "\n"
      ],
      "metadata": {
        "id": "AeG8Oa8gQIII"
      }
    },
    {
      "cell_type": "code",
      "source": [
        "#Managing an inventory\n",
        "inventory = [\"apples\",\"bananas\",\"oranges\",\"grapes\"]\n",
        "\n",
        "#Adding a new item\n",
        "inventory.append(\"cherry\")\n",
        "\n",
        "#Removing out of stock items\n",
        "inventory.remove(\"bananas\")\n",
        "\n",
        "#checking if an item is in stock\n",
        "item = \"oranges\"\n",
        "if item in inventory:\n",
        "  print(f\"{item} are in stock\")\n",
        "else:\n",
        "  print(f\"{item} are out of stock\")\n",
        "\n",
        "# Printing the inventory\n",
        "print(\"Inventory List:\")\n",
        "for item in inventory:\n",
        "  print(f\"-{item}\")"
      ],
      "metadata": {
        "colab": {
          "base_uri": "https://localhost:8080/"
        },
        "id": "2Ofbb5iXP5Mo",
        "outputId": "2b3e6a76-2659-443d-cc71-896e967201f1"
      },
      "execution_count": 4,
      "outputs": [
        {
          "output_type": "stream",
          "name": "stdout",
          "text": [
            "oranges are in stock\n",
            "Inventory List:\n",
            "-apples\n",
            "-oranges\n",
            "-grapes\n",
            "-cherry\n"
          ]
        }
      ]
    },
    {
      "cell_type": "markdown",
      "source": [
        "## Feedback\n",
        "\n",
        "*   Use a list to collect and analyze user feedback\n",
        "\n"
      ],
      "metadata": {
        "id": "pFyuzjCLR_go"
      }
    },
    {
      "cell_type": "code",
      "source": [
        "# Collecting user feedback\n",
        "feedback =[\"Great\",\"Satisfied\",\"Could be better\",\"Excellent\"]\n",
        "\n",
        "# Adding new feedback\n",
        "feedback.append(\"Not Happy\")\n",
        "\n",
        "#counting specific feedback\n",
        "positive_feedback_count = sum(1 for comment in feedback if \"Great\" in comment.lower() or \"excellent\" in comment.lower())\n",
        "print(f\"Positive Feedback Count: {positive_feedback_count}\")\n",
        "\n",
        "#Printing all feedback\n",
        "print(\"user feedback:\")\n",
        "for comment in feedback:\n",
        "  print(f\"-{comment}\")\n"
      ],
      "metadata": {
        "colab": {
          "base_uri": "https://localhost:8080/"
        },
        "id": "PVzuHupbRmZ6",
        "outputId": "4ce2aa1e-a787-4e4b-e217-ea64fc85e0a0"
      },
      "execution_count": 6,
      "outputs": [
        {
          "output_type": "stream",
          "name": "stdout",
          "text": [
            "Positive Feedback Count: 1\n",
            "user feedback:\n",
            "-Great\n",
            "-Satisfied\n",
            "-Could be better\n",
            "-Excellent\n",
            "-Not Happy\n"
          ]
        }
      ]
    },
    {
      "cell_type": "code",
      "source": [],
      "metadata": {
        "id": "09EBXE8vTemU"
      },
      "execution_count": null,
      "outputs": []
    }
  ]
}