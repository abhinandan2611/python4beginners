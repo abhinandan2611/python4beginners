{
  "nbformat": 4,
  "nbformat_minor": 0,
  "metadata": {
    "colab": {
      "provenance": [],
      "authorship_tag": "ABX9TyPJOqm0smowsLLiNZ6j8kS6",
      "include_colab_link": true
    },
    "kernelspec": {
      "name": "python3",
      "display_name": "Python 3"
    },
    "language_info": {
      "name": "python"
    }
  },
  "cells": [
    {
      "cell_type": "markdown",
      "metadata": {
        "id": "view-in-github",
        "colab_type": "text"
      },
      "source": [
        "<a href=\"https://colab.research.google.com/github/abhinandan2611/python4beginners/blob/main/Advanced_Conditional_statements_and_examples.ipynb\" target=\"_parent\"><img src=\"https://colab.research.google.com/assets/colab-badge.svg\" alt=\"Open In Colab\"/></a>"
      ]
    },
    {
      "cell_type": "code",
      "execution_count": 1,
      "metadata": {
        "colab": {
          "base_uri": "https://localhost:8080/"
        },
        "id": "LlmG0UU8nGib",
        "outputId": "3a657c2f-26dd-4f85-9fc6-27c6eb724bbf"
      },
      "outputs": [
        {
          "output_type": "stream",
          "name": "stdout",
          "text": [
            "what is your age?12\n",
            "you are a minor\n"
          ]
        }
      ],
      "source": [
        "#Advanced Conditional Statements in python\n",
        "age = int(input(\"what is your age?\"))\n",
        "\n",
        "if  age>=18:\n",
        "  print(\"You are no more a minor\")\n",
        "else:\n",
        "  print(\"you are a minor\")"
      ]
    },
    {
      "cell_type": "code",
      "source": [
        "#Elif in python ---> allows you to check multiple conditions\n",
        "\n",
        "age = int(input(\"what is your age\"))\n",
        "\n",
        "if age<13:\n",
        "  print(\"you are way too young\")\n",
        "elif age<18:\n",
        "  print(\"you are a teen\")\n",
        "else:\n",
        "  print(\"you are more than liquid\")"
      ],
      "metadata": {
        "colab": {
          "base_uri": "https://localhost:8080/"
        },
        "id": "6I5fx8mKnVVL",
        "outputId": "15e62606-616c-4982-82e8-39e22c97533d"
      },
      "execution_count": 2,
      "outputs": [
        {
          "output_type": "stream",
          "name": "stdout",
          "text": [
            "what is your age8\n",
            "you are way too young\n"
          ]
        }
      ]
    },
    {
      "cell_type": "code",
      "source": [
        "#Nested conditional statements ---> can place one condional statement inside another\n",
        "\n",
        "num=int(input(\"enter the number\"))\n",
        "\n",
        "if num>0:\n",
        "  print(\"the number is positive\")\n",
        "  if num%2==0:\n",
        "    print(\"the number is even\")\n",
        "  else:\n",
        "    print(\"the number is odd\")\n",
        "else:\n",
        "  print(\"the number is negative\")"
      ],
      "metadata": {
        "colab": {
          "base_uri": "https://localhost:8080/"
        },
        "id": "3ShYqc-MnVYF",
        "outputId": "9ede3063-3df7-438b-dc49-0a1d932707b7"
      },
      "execution_count": 3,
      "outputs": [
        {
          "output_type": "stream",
          "name": "stdout",
          "text": [
            "enter the number9\n",
            "the number is positive\n",
            "the number is odd\n"
          ]
        }
      ]
    },
    {
      "cell_type": "code",
      "source": [
        "#Use cases or practical examples for conditional statements\n",
        "#Determine if a year is a leap year using nested condition statement\n",
        "\n",
        "year = int(input(\"enter the year\"))\n",
        "\n",
        "if year>0:\n",
        "  print(\"this is a valid year\")\n",
        "  if year%4==0:\n",
        "    print(\"this is a leap year\")\n",
        "  else:\n",
        "    print(\"this is not a leap year\")\n",
        "else:\n",
        "  print(\"enter a valid year\")"
      ],
      "metadata": {
        "colab": {
          "base_uri": "https://localhost:8080/"
        },
        "id": "TAsWA5WlnVa5",
        "outputId": "e8d2e6b8-9003-4b09-ea7a-9f7f7fce4dc4"
      },
      "execution_count": 4,
      "outputs": [
        {
          "output_type": "stream",
          "name": "stdout",
          "text": [
            "enter the year2021\n",
            "this is a valid year\n",
            "this is not a leap year\n"
          ]
        }
      ]
    },
    {
      "cell_type": "code",
      "source": [
        "#Simple Calculator program\n",
        "\n",
        "num1 = float(input(\"enter the first number: \"))\n",
        "num2 = float(input(\"enter the second number: \"))\n",
        "operation = input(\"enter the operation (+,-,*,/):\")\n",
        "\n",
        "if operation == '+':\n",
        "   result = num1 + num2\n",
        "\n",
        "elif operation == '-':\n",
        "  result = num1 - num2\n",
        "elif operation == '*':\n",
        "  result = num1*num2\n",
        "elif operation == '/':\n",
        "  if num2 != 0:\n",
        "    result = num1/num2\n",
        "  else:\n",
        "    result = \"error! division by 0\"\n",
        "else:\n",
        "  result = \"invalid Operation.\"\n",
        "\n",
        "print(\"Result:\",result)"
      ],
      "metadata": {
        "colab": {
          "base_uri": "https://localhost:8080/"
        },
        "id": "_9iMxHM6nVdj",
        "outputId": "e5f727ef-e6d6-45d5-ea82-c47d248b64e3"
      },
      "execution_count": 5,
      "outputs": [
        {
          "output_type": "stream",
          "name": "stdout",
          "text": [
            "enter the first number: 9\n",
            "enter the second number: 9\n",
            "enter the operation (+,-,*,/):+\n",
            "Result: 18.0\n"
          ]
        }
      ]
    },
    {
      "cell_type": "code",
      "source": [],
      "metadata": {
        "id": "2UgSicvanVgZ"
      },
      "execution_count": null,
      "outputs": []
    },
    {
      "cell_type": "code",
      "source": [],
      "metadata": {
        "id": "tKb11g44nVi8"
      },
      "execution_count": null,
      "outputs": []
    },
    {
      "cell_type": "code",
      "source": [],
      "metadata": {
        "id": "gGxZdvUDnVmc"
      },
      "execution_count": null,
      "outputs": []
    },
    {
      "cell_type": "markdown",
      "source": [],
      "metadata": {
        "id": "u7xY_x51nI3J"
      }
    }
  ]
}