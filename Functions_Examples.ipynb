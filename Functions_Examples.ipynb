{
  "nbformat": 4,
  "nbformat_minor": 0,
  "metadata": {
    "colab": {
      "provenance": [],
      "authorship_tag": "ABX9TyP0CCaBUnYZKyYGnjHXWAwy",
      "include_colab_link": true
    },
    "kernelspec": {
      "name": "python3",
      "display_name": "Python 3"
    },
    "language_info": {
      "name": "python"
    }
  },
  "cells": [
    {
      "cell_type": "markdown",
      "metadata": {
        "id": "view-in-github",
        "colab_type": "text"
      },
      "source": [
        "<a href=\"https://colab.research.google.com/github/abhinandan2611/python4beginners/blob/main/Functions_Examples.ipynb\" target=\"_parent\"><img src=\"https://colab.research.google.com/assets/colab-badge.svg\" alt=\"Open In Colab\"/></a>"
      ]
    },
    {
      "cell_type": "markdown",
      "source": [
        "## Temperature Conversion"
      ],
      "metadata": {
        "id": "PGmoIuKy2A7t"
      }
    },
    {
      "cell_type": "code",
      "execution_count": 6,
      "metadata": {
        "colab": {
          "base_uri": "https://localhost:8080/"
        },
        "id": "9BmVhcz80K7r",
        "outputId": "81bfc9b8-f7ae-4f8e-913e-1c5b51a66761"
      },
      "outputs": [
        {
          "output_type": "stream",
          "name": "stdout",
          "text": [
            "77.0\n",
            "25.0\n"
          ]
        }
      ],
      "source": [
        "def convert_temperature(temp,unit):\n",
        "  \"\"\"This function converts temp between Celsius and Fahrenheit\"\"\"\n",
        "  if unit=='C':\n",
        "    return temp * 9/5 +32   #Celsius to Fahrenheit\n",
        "  elif unit=='F':\n",
        "    return (temp-32)*5/9    #Fahrenheit to celsius\n",
        "  else:\n",
        "    print(\"Enter a valid input (C or F)\")\n",
        "\n",
        "print(convert_temperature(25,'C'))\n",
        "print(convert_temperature(77,'F'))"
      ]
    },
    {
      "cell_type": "markdown",
      "source": [
        "## Password Strength Checker"
      ],
      "metadata": {
        "id": "R705LJ8p1_7j"
      }
    },
    {
      "cell_type": "code",
      "source": [
        "def is_strong_password(password):\n",
        "  \"\"\" Checks if the password is strong or not\"\"\"\n",
        "  if len(password)<8:\n",
        "    return False\n",
        "  if not any(char.isdigit() for char in password):\n",
        "    return False\n",
        "  if not any(char.islower() for char in password):\n",
        "    return False\n",
        "  if not any(char.isupper() for char in password):\n",
        "    return False\n",
        "  if not any(char in '!@#$%^&*()_+' for char in password):\n",
        "    return False\n",
        "  return True\n",
        "\n",
        "\n",
        "  #calling the function\n",
        "print(is_strong_password('@Bhi2001'))\n",
        "print(is_strong_password(\"abhi2001\"))\n",
        "\n",
        "\n"
      ],
      "metadata": {
        "colab": {
          "base_uri": "https://localhost:8080/"
        },
        "id": "pwnPOHh338NY",
        "outputId": "9e5c7b79-d117-46b8-8085-6a5aade901e5"
      },
      "execution_count": 11,
      "outputs": [
        {
          "output_type": "stream",
          "name": "stdout",
          "text": [
            "True\n",
            "False\n"
          ]
        }
      ]
    },
    {
      "cell_type": "markdown",
      "source": [
        "## Calculate the total cost of items in a shopping cart"
      ],
      "metadata": {
        "id": "_FTMMidg1pWB"
      }
    },
    {
      "cell_type": "code",
      "source": [
        "def calculate_total_cost(cart):\n",
        "  total_cost=0\n",
        "  for item in cart:\n",
        "    total_cost+=item['price']*item['quantity']\n",
        "  return total_cost\n",
        "\n",
        "\n",
        "  ## Example cart data\n",
        "\n",
        "cart=[\n",
        "      {'name':'Apple','price':100,'quantity':4},\n",
        "      {'name':'Banana','price':80,'quantity':6},\n",
        "      {'name':'Mango','price':150,'quantity':3}\n",
        "  ]\n",
        "\n",
        "  ##calling the function\n",
        "\n",
        "total_cost=calculate_total_cost(cart)\n",
        "print(total_cost)"
      ],
      "metadata": {
        "colab": {
          "base_uri": "https://localhost:8080/"
        },
        "id": "7ZUl2xt54BIr",
        "outputId": "db0c5f62-8036-4af1-a2de-85e60906bb79"
      },
      "execution_count": 22,
      "outputs": [
        {
          "output_type": "stream",
          "name": "stdout",
          "text": [
            "1330\n"
          ]
        }
      ]
    },
    {
      "cell_type": "markdown",
      "source": [
        "## Check if a string is a Palindrome"
      ],
      "metadata": {
        "id": "1bU_Tlm16pIS"
      }
    },
    {
      "cell_type": "code",
      "source": [
        "def is_palindrome(s):\n",
        "  s=s.lower().replace(\" \",\"\")\n",
        "  return s==s[::-1]\n",
        "print(is_palindrome(\"A man a plan a canal Panama\"))\n",
        "print(is_palindrome(\"hello\"))"
      ],
      "metadata": {
        "colab": {
          "base_uri": "https://localhost:8080/"
        },
        "id": "TwNzaOQv4BFB",
        "outputId": "db09d1eb-2f64-4d0d-a701-dabea5f42cfc"
      },
      "execution_count": 23,
      "outputs": [
        {
          "output_type": "stream",
          "name": "stdout",
          "text": [
            "True\n",
            "False\n"
          ]
        }
      ]
    },
    {
      "cell_type": "markdown",
      "source": [
        "## Calculate the factorial of a number using recursion"
      ],
      "metadata": {
        "id": "UwpOfjZC7eit"
      }
    },
    {
      "cell_type": "code",
      "source": [
        "def factorial(n):\n",
        "  if n==0:\n",
        "    return 1\n",
        "  else:\n",
        "    return n * factorial(n-1)\n",
        "\n",
        "print(factorial(5))"
      ],
      "metadata": {
        "colab": {
          "base_uri": "https://localhost:8080/"
        },
        "id": "6_IxC86s4BCX",
        "outputId": "f8372d69-e0c7-471b-a6bb-bff8392cdc35"
      },
      "execution_count": 24,
      "outputs": [
        {
          "output_type": "stream",
          "name": "stdout",
          "text": [
            "120\n"
          ]
        }
      ]
    },
    {
      "cell_type": "markdown",
      "source": [
        "## A function to Read A file and count the frequency of each word"
      ],
      "metadata": {
        "id": "ZtLrFUVt79Xw"
      }
    },
    {
      "cell_type": "code",
      "source": [
        "def count_word_frequency(file_path):\n",
        "  word_count={}\n",
        "  with open(file_path,'r') as file :\n",
        "    for line in file:\n",
        "      words=line.split()\n",
        "      for word in words:\n",
        "        word=word.lower().strip('.,!?:;\"\\'')\n",
        "        word_count[word]=word_count.get(word,0)+1\n",
        "  return word_count\n",
        "\n",
        "\n",
        "filepath='hello abhi.txt'\n",
        "word_frequency=count_word_frequency(filepath)\n",
        "print(word_frequency)\n"
      ],
      "metadata": {
        "colab": {
          "base_uri": "https://localhost:8080/"
        },
        "id": "zwCEeTy84A_j",
        "outputId": "a25560bb-c784-4f0e-c728-1753b274cc05"
      },
      "execution_count": 27,
      "outputs": [
        {
          "output_type": "stream",
          "name": "stdout",
          "text": [
            "{'hello': 1, 'abhi': 1}\n"
          ]
        }
      ]
    },
    {
      "cell_type": "code",
      "source": [],
      "metadata": {
        "id": "Y6Z01ngn-Bnz"
      },
      "execution_count": null,
      "outputs": []
    }
  ]
}