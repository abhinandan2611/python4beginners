{
  "nbformat": 4,
  "nbformat_minor": 0,
  "metadata": {
    "colab": {
      "provenance": [],
      "authorship_tag": "ABX9TyPHwbC8Tj7dxt2hyU9ODCKA",
      "include_colab_link": true
    },
    "kernelspec": {
      "name": "python3",
      "display_name": "Python 3"
    },
    "language_info": {
      "name": "python"
    }
  },
  "cells": [
    {
      "cell_type": "markdown",
      "metadata": {
        "id": "view-in-github",
        "colab_type": "text"
      },
      "source": [
        "<a href=\"https://colab.research.google.com/github/abhinandan2611/python4beginners/blob/main/Loops.ipynb\" target=\"_parent\"><img src=\"https://colab.research.google.com/assets/colab-badge.svg\" alt=\"Open In Colab\"/></a>"
      ]
    },
    {
      "cell_type": "code",
      "execution_count": 1,
      "metadata": {
        "colab": {
          "base_uri": "https://localhost:8080/"
        },
        "id": "on2wcjh5ovRR",
        "outputId": "6d2e2110-ffdb-4ac2-cf27-7b8d309f4c68"
      },
      "outputs": [
        {
          "output_type": "stream",
          "name": "stdout",
          "text": [
            "0\n",
            "1\n",
            "2\n",
            "3\n",
            "4\n"
          ]
        }
      ],
      "source": [
        "#for loop ----> iterates in the loop // unspecific loops always starts from 0\n",
        "range(5)\n",
        "for i in range (5):\n",
        "  print(i)"
      ]
    },
    {
      "cell_type": "code",
      "source": [
        "#loops and array indexing always starts from 0  // ex:range 1 to 6, the first no 1 will occupy index 0\n",
        "for i in range(1,6):\n",
        "  print(i)"
      ],
      "metadata": {
        "colab": {
          "base_uri": "https://localhost:8080/"
        },
        "id": "f8Kesp8hpcL8",
        "outputId": "8800aa27-9fa1-4622-ca75-977c36b19848"
      },
      "execution_count": 2,
      "outputs": [
        {
          "output_type": "stream",
          "name": "stdout",
          "text": [
            "1\n",
            "2\n",
            "3\n",
            "4\n",
            "5\n"
          ]
        }
      ]
    },
    {
      "cell_type": "code",
      "source": [
        "for i in range(1,10,2):  #the third columns is steps which means it will skip the value which has been assumed\n",
        "  print(i)\n"
      ],
      "metadata": {
        "colab": {
          "base_uri": "https://localhost:8080/"
        },
        "id": "McBmlOUjpqu3",
        "outputId": "75ed29cb-aafa-44ac-efb0-704f59a906fa"
      },
      "execution_count": 9,
      "outputs": [
        {
          "output_type": "stream",
          "name": "stdout",
          "text": [
            "1\n",
            "3\n",
            "5\n",
            "7\n",
            "9\n"
          ]
        }
      ]
    },
    {
      "cell_type": "code",
      "source": [
        "#Same things can be done in strings\n",
        "\n",
        "str = \"Abhinandan\"\n",
        "for i in str:\n",
        "  print(i)"
      ],
      "metadata": {
        "colab": {
          "base_uri": "https://localhost:8080/"
        },
        "id": "z586dDXtqeeY",
        "outputId": "0487111e-1515-4c54-b420-27236b85ade3"
      },
      "execution_count": 10,
      "outputs": [
        {
          "output_type": "stream",
          "name": "stdout",
          "text": [
            "A\n",
            "b\n",
            "h\n",
            "i\n",
            "n\n",
            "a\n",
            "n\n",
            "d\n",
            "a\n",
            "n\n"
          ]
        }
      ]
    },
    {
      "cell_type": "code",
      "source": [
        "#while loop\n",
        "#while loop continues to execute as lomg as the condition is true\n",
        "\n",
        "count = 0\n",
        "while count<5:\n",
        "  print(count)\n",
        "  count=count+1"
      ],
      "metadata": {
        "colab": {
          "base_uri": "https://localhost:8080/"
        },
        "id": "jacwt6C3resM",
        "outputId": "e0989a15-dce8-49b9-ab92-7c443049f2c4"
      },
      "execution_count": 14,
      "outputs": [
        {
          "output_type": "stream",
          "name": "stdout",
          "text": [
            "0\n",
            "1\n",
            "2\n",
            "3\n",
            "4\n"
          ]
        }
      ]
    },
    {
      "cell_type": "code",
      "source": [
        "#loop control statements\n",
        "## break --> break statements exists the loop prematurely\n",
        "\n",
        "for i in range(10):\n",
        "  if i==5:\n",
        "    break  #the loop break when i is incremented upto 5\n",
        "  print(i)\n"
      ],
      "metadata": {
        "colab": {
          "base_uri": "https://localhost:8080/"
        },
        "id": "6Q1RVITgsis0",
        "outputId": "9bb9a08c-ed4f-4a5a-9268-05f842bf7c61"
      },
      "execution_count": 18,
      "outputs": [
        {
          "output_type": "stream",
          "name": "stdout",
          "text": [
            "0\n",
            "1\n",
            "2\n",
            "3\n",
            "4\n"
          ]
        }
      ]
    },
    {
      "cell_type": "code",
      "source": [
        "##continue --> this statements skips the current iteration and continues with the next\n",
        "\n",
        "for i in range(10):\n",
        "  if i%2==0:\n",
        "    continue\n",
        "  print(i)"
      ],
      "metadata": {
        "colab": {
          "base_uri": "https://localhost:8080/"
        },
        "id": "muOZLl0dt0ED",
        "outputId": "f137e580-1c6c-4eac-d373-3141f102617d"
      },
      "execution_count": 19,
      "outputs": [
        {
          "output_type": "stream",
          "name": "stdout",
          "text": [
            "1\n",
            "3\n",
            "5\n",
            "7\n",
            "9\n"
          ]
        }
      ]
    },
    {
      "cell_type": "code",
      "source": [
        "#pass --> this statemnet is a null operation and does nothing\n",
        "\n",
        "for i in range(5):\n",
        "  if i==3:\n",
        "    print(\"the number is\",i)\n",
        "    pass\n",
        "  print(i)\n",
        "\n"
      ],
      "metadata": {
        "colab": {
          "base_uri": "https://localhost:8080/"
        },
        "id": "4v76FBXsuz1O",
        "outputId": "3e957be9-a9c3-44cb-b00d-262d033c6e71"
      },
      "execution_count": 21,
      "outputs": [
        {
          "output_type": "stream",
          "name": "stdout",
          "text": [
            "0\n",
            "1\n",
            "2\n",
            "the number is 3\n",
            "3\n",
            "4\n"
          ]
        }
      ]
    },
    {
      "cell_type": "code",
      "source": [
        "#Nested loops\n",
        "\n",
        "for i in range(3):\n",
        "  for j in range(2):\n",
        "    print(f\"*i:{i} and j:{j}\")"
      ],
      "metadata": {
        "colab": {
          "base_uri": "https://localhost:8080/"
        },
        "id": "81kJq-JUvQO5",
        "outputId": "18966cb7-2f78-421f-c1c7-a741ed123142"
      },
      "execution_count": 22,
      "outputs": [
        {
          "output_type": "stream",
          "name": "stdout",
          "text": [
            "*i:0 and j:0\n",
            "*i:0 and j:1\n",
            "*i:1 and j:0\n",
            "*i:1 and j:1\n",
            "*i:2 and j:0\n",
            "*i:2 and j:1\n"
          ]
        }
      ]
    },
    {
      "cell_type": "code",
      "source": [
        "#Examples - Calculate the sum of First N natural number using a while and for loop\n",
        "\n",
        "#while loop\n",
        "\n",
        "n=10\n",
        "sum=0\n",
        "count =1\n",
        "\n",
        "while count<=n:\n",
        "  sum=sum+count\n",
        "  count=count+1\n",
        "print(\"Sum of first 10 natural numbers:\", sum)"
      ],
      "metadata": {
        "colab": {
          "base_uri": "https://localhost:8080/"
        },
        "id": "IXxWzxP7wShX",
        "outputId": "d4121caf-0373-4278-9a40-4bbab8b83a11"
      },
      "execution_count": 23,
      "outputs": [
        {
          "output_type": "stream",
          "name": "stdout",
          "text": [
            "Sum of first 10 natural numbers: 55\n"
          ]
        }
      ]
    },
    {
      "cell_type": "code",
      "source": [
        "#for loop\n",
        "n=10\n",
        "sum=0\n",
        "#count =1\n",
        "\n",
        "for i in range(11):\n",
        "  sum=sum+i\n",
        "\n",
        "print(sum)\n"
      ],
      "metadata": {
        "colab": {
          "base_uri": "https://localhost:8080/"
        },
        "id": "_gkkb3o-xThP",
        "outputId": "ed95cfca-ce60-4c14-9760-6ef63beefa54"
      },
      "execution_count": 24,
      "outputs": [
        {
          "output_type": "stream",
          "name": "stdout",
          "text": [
            "55\n"
          ]
        }
      ]
    },
    {
      "cell_type": "code",
      "source": [
        "#Example-- Prime numbers between 1 and 100\n",
        "\n",
        "for num in range(1,101):\n",
        "  if num>1:\n",
        "    for i in range(2,num):\n",
        "      if num%i==0:\n",
        "        break\n",
        "    else:\n",
        "      print(num)"
      ],
      "metadata": {
        "colab": {
          "base_uri": "https://localhost:8080/"
        },
        "id": "Sa4qAgcdyLfA",
        "outputId": "d0a52bc1-0eb1-4b9e-b2de-979d97a82d1c"
      },
      "execution_count": 27,
      "outputs": [
        {
          "output_type": "stream",
          "name": "stdout",
          "text": [
            "2\n",
            "3\n",
            "5\n",
            "7\n",
            "11\n",
            "13\n",
            "17\n",
            "19\n",
            "23\n",
            "29\n",
            "31\n",
            "37\n",
            "41\n",
            "43\n",
            "47\n",
            "53\n",
            "59\n",
            "61\n",
            "67\n",
            "71\n",
            "73\n",
            "79\n",
            "83\n",
            "89\n",
            "97\n"
          ]
        }
      ]
    },
    {
      "cell_type": "code",
      "source": [],
      "metadata": {
        "id": "6fXPTUtXy2gn"
      },
      "execution_count": null,
      "outputs": []
    }
  ]
}