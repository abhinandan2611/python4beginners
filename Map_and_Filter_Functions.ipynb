{
  "nbformat": 4,
  "nbformat_minor": 0,
  "metadata": {
    "colab": {
      "provenance": [],
      "authorship_tag": "ABX9TyOvQCAVwS4KCNM8HEa2WSOF",
      "include_colab_link": true
    },
    "kernelspec": {
      "name": "python3",
      "display_name": "Python 3"
    },
    "language_info": {
      "name": "python"
    }
  },
  "cells": [
    {
      "cell_type": "markdown",
      "metadata": {
        "id": "view-in-github",
        "colab_type": "text"
      },
      "source": [
        "<a href=\"https://colab.research.google.com/github/abhinandan2611/python4beginners/blob/main/Map_and_Filter_Functions.ipynb\" target=\"_parent\"><img src=\"https://colab.research.google.com/assets/colab-badge.svg\" alt=\"Open In Colab\"/></a>"
      ]
    },
    {
      "cell_type": "markdown",
      "source": [
        "## Map() Function\n",
        "\n",
        "Used to transfer data in a list comprehensively"
      ],
      "metadata": {
        "id": "eoqUPzuE9w3u"
      }
    },
    {
      "cell_type": "code",
      "execution_count": 1,
      "metadata": {
        "colab": {
          "base_uri": "https://localhost:8080/"
        },
        "id": "goozR9YK9ogG",
        "outputId": "490d6c79-179f-4d82-8f8e-afaff8f59779"
      },
      "outputs": [
        {
          "output_type": "execute_result",
          "data": {
            "text/plain": [
              "100"
            ]
          },
          "metadata": {},
          "execution_count": 1
        }
      ],
      "source": [
        "def square(x):\n",
        "  return x*x\n",
        "\n",
        "square(10)"
      ]
    },
    {
      "cell_type": "code",
      "source": [
        "numbers=[1,2,3,4,5,6,7,8]\n",
        "\n",
        "list(map(square,numbers))     #takes two inputs 1. fuction 2. iterable\n"
      ],
      "metadata": {
        "colab": {
          "base_uri": "https://localhost:8080/"
        },
        "id": "n5Nxbo-Z-P8h",
        "outputId": "af2ad451-b28f-40de-e0ff-d22e16750255"
      },
      "execution_count": 2,
      "outputs": [
        {
          "output_type": "execute_result",
          "data": {
            "text/plain": [
              "[1, 4, 9, 16, 25, 36, 49, 64]"
            ]
          },
          "metadata": {},
          "execution_count": 2
        }
      ]
    },
    {
      "cell_type": "code",
      "source": [
        "##Lambda Function with map\n",
        "numbers=[1,2,3,4,5,6,7,8]\n",
        "list(map(lambda x:x*x,numbers))\n"
      ],
      "metadata": {
        "colab": {
          "base_uri": "https://localhost:8080/"
        },
        "id": "4_seR8AA-q3o",
        "outputId": "4b7c4606-a8a2-4551-e5d8-87bcb7725006"
      },
      "execution_count": 3,
      "outputs": [
        {
          "output_type": "execute_result",
          "data": {
            "text/plain": [
              "[1, 4, 9, 16, 25, 36, 49, 64]"
            ]
          },
          "metadata": {},
          "execution_count": 3
        }
      ]
    },
    {
      "cell_type": "code",
      "source": [
        "## Map multiple iterables\n",
        "\n",
        "numbers1=[1,2,3]\n",
        "numbers2=[4,5,6]\n",
        "\n",
        "added_numbers=list(map(lambda x,y:x+y,numbers1,numbers2))\n",
        "print(added_numbers)"
      ],
      "metadata": {
        "colab": {
          "base_uri": "https://localhost:8080/"
        },
        "id": "KF-icT2j--WD",
        "outputId": "c2b2f720-2d9a-4b62-d5b9-3c7ef4b08762"
      },
      "execution_count": 5,
      "outputs": [
        {
          "output_type": "stream",
          "name": "stdout",
          "text": [
            "[5, 7, 9]\n"
          ]
        }
      ]
    },
    {
      "cell_type": "code",
      "source": [
        "## map() to convert a list of string to integers\n",
        "str_numbers=['1','2','3','4','5']\n",
        "int_numbers=list(map(int,str_numbers))     #typecasting is done\n",
        "\n",
        "print(int_numbers)"
      ],
      "metadata": {
        "colab": {
          "base_uri": "https://localhost:8080/"
        },
        "id": "3M9--7Be_ad8",
        "outputId": "c9ac77ce-38e6-46ea-a6e5-8be3c6fcd322"
      },
      "execution_count": 6,
      "outputs": [
        {
          "output_type": "stream",
          "name": "stdout",
          "text": [
            "[1, 2, 3, 4, 5]\n"
          ]
        }
      ]
    },
    {
      "cell_type": "code",
      "source": [
        "##Inbuilt function using maps\n",
        "\n",
        "words=['apple','banana','cherry']\n",
        "upper_words=list(map(str.upper,words))\n",
        "print(upper_words)"
      ],
      "metadata": {
        "colab": {
          "base_uri": "https://localhost:8080/"
        },
        "id": "dlf0rhYeA3I1",
        "outputId": "f860ed76-a643-4a16-abff-bce2c0b287d3"
      },
      "execution_count": 7,
      "outputs": [
        {
          "output_type": "stream",
          "name": "stdout",
          "text": [
            "['APPLE', 'BANANA', 'CHERRY']\n"
          ]
        }
      ]
    },
    {
      "cell_type": "code",
      "source": [
        "def get_name(person):\n",
        "  return person['name']\n",
        "\n",
        "people=[\n",
        "    {'name':'abhi','age':23},\n",
        "    {'name':'jack','age':33}\n",
        "]\n",
        "list(map(get_name,people))"
      ],
      "metadata": {
        "colab": {
          "base_uri": "https://localhost:8080/"
        },
        "id": "-8kioE16COCY",
        "outputId": "282100f7-832c-4876-e9e4-6709300b87de"
      },
      "execution_count": 8,
      "outputs": [
        {
          "output_type": "execute_result",
          "data": {
            "text/plain": [
              "['abhi', 'jack']"
            ]
          },
          "metadata": {},
          "execution_count": 8
        }
      ]
    },
    {
      "cell_type": "markdown",
      "source": [
        "## Filter() Function\n",
        "\n",
        "Used to filter out items from a list based on a condition"
      ],
      "metadata": {
        "id": "QXycsoQgDGjb"
      }
    },
    {
      "cell_type": "code",
      "source": [
        "def even(num):\n",
        "  if num%2==0:\n",
        "    return True\n",
        "even(24)\n"
      ],
      "metadata": {
        "colab": {
          "base_uri": "https://localhost:8080/"
        },
        "id": "_n3ZrkeBC1DA",
        "outputId": "223c1abb-2787-46c1-f688-055b61e07459"
      },
      "execution_count": 9,
      "outputs": [
        {
          "output_type": "execute_result",
          "data": {
            "text/plain": [
              "True"
            ]
          },
          "metadata": {},
          "execution_count": 9
        }
      ]
    },
    {
      "cell_type": "code",
      "source": [
        "lst=[1,2,3,4,5,6,7,8,9,10,11,12]\n",
        "\n",
        "list(filter(even,lst))"
      ],
      "metadata": {
        "colab": {
          "base_uri": "https://localhost:8080/"
        },
        "id": "8zZqJf8kDjhy",
        "outputId": "2ddd6d4b-5a34-4dfd-8fa4-dbc0c8966cd0"
      },
      "execution_count": 10,
      "outputs": [
        {
          "output_type": "execute_result",
          "data": {
            "text/plain": [
              "[2, 4, 6, 8, 10, 12]"
            ]
          },
          "metadata": {},
          "execution_count": 10
        }
      ]
    },
    {
      "cell_type": "code",
      "source": [
        "## Filter with Lambda function\n",
        "numbers=[1,2,3,4,5,6,7,8,9]\n",
        "greater_than_five=list(filter(lambda x:x>5,numbers))\n",
        "print(greater_than_five)"
      ],
      "metadata": {
        "colab": {
          "base_uri": "https://localhost:8080/"
        },
        "id": "patWf2JzD4mJ",
        "outputId": "e6caf1d3-61c9-4e1d-abbc-3e490549092c"
      },
      "execution_count": 11,
      "outputs": [
        {
          "output_type": "stream",
          "name": "stdout",
          "text": [
            "[6, 7, 8, 9]\n"
          ]
        }
      ]
    },
    {
      "cell_type": "code",
      "source": [
        "#Filter with a lambda funcion and multiple conditions\n",
        "numbers=[1,2,3,4,5,6,7,8,9]\n",
        "even_and_greater_than_five=list(filter(lambda x:x>5 and x%2==0,numbers))\n",
        "print(even_and_greater_than_five)"
      ],
      "metadata": {
        "colab": {
          "base_uri": "https://localhost:8080/"
        },
        "id": "x6jydavMEQc9",
        "outputId": "fed42e26-d103-4482-b07a-fd88915658b7"
      },
      "execution_count": 12,
      "outputs": [
        {
          "output_type": "stream",
          "name": "stdout",
          "text": [
            "[6, 8]\n"
          ]
        }
      ]
    },
    {
      "cell_type": "code",
      "source": [
        "## Filter() to check if age is greater than 25 in dictionaries\n",
        "people=[\n",
        "    {'name':'abhi','age':23},\n",
        "    {'name':'jack','age':33},\n",
        "    {'name':'john','age':43},\n",
        "    {'name':'jill','age':26}\n",
        "]\n",
        "\n",
        "def age_greater_than_25(person):\n",
        "  return person['age']>25\n",
        "\n",
        "list(filter(age_greater_than_25,people))\n"
      ],
      "metadata": {
        "colab": {
          "base_uri": "https://localhost:8080/"
        },
        "id": "NViFj5_9Et82",
        "outputId": "1b22f4d7-9ec5-4d49-bde2-239a603f2921"
      },
      "execution_count": 13,
      "outputs": [
        {
          "output_type": "execute_result",
          "data": {
            "text/plain": [
              "[{'name': 'jack', 'age': 33},\n",
              " {'name': 'john', 'age': 43},\n",
              " {'name': 'jill', 'age': 26}]"
            ]
          },
          "metadata": {},
          "execution_count": 13
        }
      ]
    },
    {
      "cell_type": "code",
      "source": [],
      "metadata": {
        "id": "FkF78V33FkOZ"
      },
      "execution_count": null,
      "outputs": []
    }
  ]
}